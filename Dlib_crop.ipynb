{
 "cells": [
  {
   "cell_type": "code",
   "execution_count": 1,
   "id": "0ea28120",
   "metadata": {},
   "outputs": [
    {
     "name": "stderr",
     "output_type": "stream",
     "text": [
      "/home/s439476@ucstaff.win.canberra.edu.au/anaconda3/envs/Dlib_env/lib/python3.7/site-packages/tqdm/auto.py:22: TqdmWarning: IProgress not found. Please update jupyter and ipywidgets. See https://ipywidgets.readthedocs.io/en/stable/user_install.html\n",
      "  from .autonotebook import tqdm as notebook_tqdm\n"
     ]
    }
   ],
   "source": [
    "from imutils import face_utils\n",
    "import math\n",
    "import dlib\n",
    "import cv2\n",
    "import os\n",
    "import glob as gb\n",
    "from PIL import Image, ImageDraw\n",
    "from IPython import display\n",
    "import torch\n",
    "from torch import nn\n",
    "import numpy as np\n",
    "from PIL import Image, ImageDraw"
   ]
  },
  {
   "cell_type": "code",
   "execution_count": 2,
   "id": "f8933a6b",
   "metadata": {},
   "outputs": [],
   "source": [
    "detector = dlib.get_frontal_face_detector()\n",
    "predictor = dlib.shape_predictor(\"shape_predictor_68_face_landmarks.dat\")"
   ]
  },
  {
   "cell_type": "code",
   "execution_count": 3,
   "id": "135c6be6",
   "metadata": {},
   "outputs": [],
   "source": [
    "#loading image\n",
    "def Loading():\n",
    "    samm_path ='../SAMM/Raw_Data/SAMM/*'\n",
    "    casme_path = '../CASME-II/Cropped/*'\n",
    "    smic_path = '../SMIC/SMIC_all_cropped/HS/*'\n",
    "    #get subject\n",
    "    sub_list = gb.glob(samm_path)\n",
    "    sub = sub_list[0]\n",
    "    sub_name = sub.split('/')[-1]\n",
    "    # get video\n",
    "    video_list = gb.glob(os.path.join(sub,'*'))\n",
    "    if len(video_list) > 0:\n",
    "        video = video_list[0]\n",
    "    else:\n",
    "        video = video_list[-1]\n",
    "    video_name = video.split('/')[-1]\n",
    "    # get frame\n",
    "    frame_list = gb.glob(os.path.join(video,'*.jpg'))\n",
    "    frame = frame_list[:2]\n",
    "    return sub_name, video_name, frame_list  "
   ]
  },
  {
   "cell_type": "code",
   "execution_count": 4,
   "id": "0d3e6abe",
   "metadata": {},
   "outputs": [],
   "source": [
    "#preprocess image\n",
    "def ProImg(frame_name):\n",
    "    img = cv2.imread(frame_name)\n",
    "    gray = cv2.cvtColor(img, cv2.COLOR_BGR2GRAY)\n",
    "    face = detector(gray)[0]\n",
    "    landmarks = predictor(gray, face)\n",
    "    \n",
    "    return img, landmarks"
   ]
  },
  {
   "cell_type": "code",
   "execution_count": 5,
   "id": "212b1145",
   "metadata": {},
   "outputs": [],
   "source": [
    " # getting the distance between the most left point to eyes, width and height of the first image\n",
    "def Reference(frame_dir): \n",
    "    \n",
    "    #preprocess image\n",
    "    img, landmarks = ProImg(frame_dir)\n",
    "    \n",
    "    # Determine the max and min points around the face\n",
    "    x_min = np.min([landmarks.part(n).x for n in range(68)])\n",
    "    x_max = np.max([landmarks.part(n).x for n in range(68)])\n",
    "    y_top = np.min([landmarks.part(n).y for n in range(68)])\n",
    "    y_max = np.max([landmarks.part(n).y for n in range(68)])\n",
    "#     eye_left = (landmarks.part(36).x, landmarks.part(36).y)\n",
    "    nose = (landmarks.part(30).x, landmarks.part(30).y)\n",
    "    \n",
    "    #Determine cropping bounding box\n",
    "    width = abs(x_max-x_min)\n",
    "    height = abs(y_max-y_top)\n",
    "    y_min = y_top-abs(width-height)\n",
    "    location = (nose[0] - x_min, nose[1]-y_min)\n",
    "\n",
    "#     # Draw the rectangle on the image\n",
    "#     cv2.rectangle(img, (x_min, y_min), (x_max, y_max), (0, 0, 255), 2)\n",
    "\n",
    "#     # Draw the line on the image\n",
    "#     cv2.line(img, (x_min, eye_left[1]),eye_left, (0, 255, 0), 2)\n",
    "#     cv2.line(img, (eye_left[0], y_min),eye_left, (0, 255, 0), 2)\n",
    "\n",
    "\n",
    "#     # Display the image\n",
    "#     cv2.imshow('Image with Rectangle', img)\n",
    "    \n",
    "#     # Wait for a key press and then close the window\n",
    "#     cv2.waitKey(0)\n",
    "#     cv2.destroyAllWindows()\n",
    "    return width, height, location"
   ]
  },
  {
   "cell_type": "code",
   "execution_count": 6,
   "id": "3bc839ac",
   "metadata": {},
   "outputs": [],
   "source": [
    "def normalize(frame_dir, width, height, location):\n",
    "\n",
    "    Determine the eye's position \n",
    "    eye_left = (landmarks.part(36).x, landmarks.part(36).y)\n",
    "    nose = (landmarks.part(30).x, landmarks.part(30).y)\n",
    "    \n",
    "    # Determine the bounding box around the face\n",
    "    x_min = nose[0]-location[0]\n",
    "    x_max = x_min+width\n",
    "    y_min = nose[1]-location[1]\n",
    "    y_max = y_min+width\n",
    "    \n",
    "#         # Draw the rectangle on the image\n",
    "#     cv2.rectangle(img, (x_min, y_min), (x_max, y_max), (0, 0, 255), 2)\n",
    "#         # Display the image\n",
    "#     cv2.imshow('Image with Rectangle', img)\n",
    "    \n",
    "#     # Wait for a key press and then close the window\n",
    "#     cv2.waitKey(0)\n",
    "#     cv2.destroyAllWindows()\n",
    "    \n",
    "    # Crop the image based on the bounding box\n",
    "    cropped = img[y_min:y_max, x_min:x_max]\n",
    "    \n",
    "    return cropped"
   ]
  },
  {
   "cell_type": "code",
   "execution_count": 11,
   "id": "28e41968",
   "metadata": {},
   "outputs": [
    {
     "name": "stdout",
     "output_type": "stream",
     "text": [
      "src_pts: <_dlib_pybind11.full_object_detection object at 0x7f49f85d4e30>\n"
     ]
    },
    {
     "ename": "AxisError",
     "evalue": "axis 0 is out of bounds for array of dimension 0",
     "output_type": "error",
     "traceback": [
      "\u001b[0;31m---------------------------------------------------------------------------\u001b[0m",
      "\u001b[0;31mAxisError\u001b[0m                                 Traceback (most recent call last)",
      "\u001b[0;32m/tmp/ipykernel_1304524/1793129637.py\u001b[0m in \u001b[0;36m<module>\u001b[0;34m\u001b[0m\n\u001b[1;32m     17\u001b[0m     \u001b[0;31m#normalize rest images\u001b[0m\u001b[0;34m\u001b[0m\u001b[0;34m\u001b[0m\u001b[0;34m\u001b[0m\u001b[0m\n\u001b[1;32m     18\u001b[0m \u001b[0;31m#     cropped_face = normalize(frame, width, height, location)\u001b[0m\u001b[0;34m\u001b[0m\u001b[0;34m\u001b[0m\u001b[0;34m\u001b[0m\u001b[0m\n\u001b[0;32m---> 19\u001b[0;31m     \u001b[0mcropped_face\u001b[0m \u001b[0;34m=\u001b[0m \u001b[0mnormalize\u001b[0m\u001b[0;34m(\u001b[0m\u001b[0mframe\u001b[0m\u001b[0;34m,\u001b[0m \u001b[0mref_img\u001b[0m\u001b[0;34m,\u001b[0m \u001b[0mref_landmarks\u001b[0m\u001b[0;34m)\u001b[0m\u001b[0;34m\u001b[0m\u001b[0;34m\u001b[0m\u001b[0m\n\u001b[0m\u001b[1;32m     20\u001b[0m     \u001b[0mcv2\u001b[0m\u001b[0;34m.\u001b[0m\u001b[0mimwrite\u001b[0m\u001b[0;34m(\u001b[0m\u001b[0mframe_save_path\u001b[0m\u001b[0;34m,\u001b[0m \u001b[0mcropped_face\u001b[0m\u001b[0;34m)\u001b[0m\u001b[0;34m\u001b[0m\u001b[0;34m\u001b[0m\u001b[0m\n",
      "\u001b[0;32m/tmp/ipykernel_1304524/97435235.py\u001b[0m in \u001b[0;36mnormalize\u001b[0;34m(frame_dir, ref_img, ref_landmarks)\u001b[0m\n\u001b[1;32m      5\u001b[0m \u001b[0;34m\u001b[0m\u001b[0m\n\u001b[1;32m      6\u001b[0m     \u001b[0;31m# Compute the transformation matrix between the landmarks of the image and the reference image\u001b[0m\u001b[0;34m\u001b[0m\u001b[0;34m\u001b[0m\u001b[0;34m\u001b[0m\u001b[0m\n\u001b[0;32m----> 7\u001b[0;31m     \u001b[0mM\u001b[0m \u001b[0;34m=\u001b[0m \u001b[0mprocrustes_analysis\u001b[0m\u001b[0;34m(\u001b[0m\u001b[0mlandmarks\u001b[0m\u001b[0;34m,\u001b[0m \u001b[0mref_landmarks\u001b[0m\u001b[0;34m)\u001b[0m\u001b[0;34m\u001b[0m\u001b[0;34m\u001b[0m\u001b[0m\n\u001b[0m\u001b[1;32m      8\u001b[0m \u001b[0;34m\u001b[0m\u001b[0m\n\u001b[1;32m      9\u001b[0m     \u001b[0;31m# Apply the transformation matrix to the image to warp it to the same position as the reference image\u001b[0m\u001b[0;34m\u001b[0m\u001b[0;34m\u001b[0m\u001b[0;34m\u001b[0m\u001b[0m\n",
      "\u001b[0;32m/tmp/ipykernel_1304524/1288742503.py\u001b[0m in \u001b[0;36mprocrustes_analysis\u001b[0;34m(src_pts, dst_pts)\u001b[0m\n\u001b[1;32m      3\u001b[0m     \u001b[0;31m# Compute the centroid of each set of points\u001b[0m\u001b[0;34m\u001b[0m\u001b[0;34m\u001b[0m\u001b[0;34m\u001b[0m\u001b[0m\n\u001b[1;32m      4\u001b[0m     \u001b[0mprint\u001b[0m\u001b[0;34m(\u001b[0m\u001b[0;34m'src_pts:'\u001b[0m\u001b[0;34m,\u001b[0m\u001b[0msrc_pts\u001b[0m\u001b[0;34m)\u001b[0m\u001b[0;34m\u001b[0m\u001b[0;34m\u001b[0m\u001b[0m\n\u001b[0;32m----> 5\u001b[0;31m     \u001b[0msrc_centroid\u001b[0m \u001b[0;34m=\u001b[0m \u001b[0mnp\u001b[0m\u001b[0;34m.\u001b[0m\u001b[0mmean\u001b[0m\u001b[0;34m(\u001b[0m\u001b[0msrc_pts\u001b[0m\u001b[0;34m,\u001b[0m \u001b[0maxis\u001b[0m\u001b[0;34m=\u001b[0m\u001b[0;36m0\u001b[0m\u001b[0;34m)\u001b[0m\u001b[0;34m\u001b[0m\u001b[0;34m\u001b[0m\u001b[0m\n\u001b[0m\u001b[1;32m      6\u001b[0m     \u001b[0mdst_centroid\u001b[0m \u001b[0;34m=\u001b[0m \u001b[0mnp\u001b[0m\u001b[0;34m.\u001b[0m\u001b[0mmean\u001b[0m\u001b[0;34m(\u001b[0m\u001b[0mdst_pts\u001b[0m\u001b[0;34m,\u001b[0m \u001b[0maxis\u001b[0m\u001b[0;34m=\u001b[0m\u001b[0;36m0\u001b[0m\u001b[0;34m)\u001b[0m\u001b[0;34m\u001b[0m\u001b[0;34m\u001b[0m\u001b[0m\n\u001b[1;32m      7\u001b[0m \u001b[0;34m\u001b[0m\u001b[0m\n",
      "\u001b[0;32m<__array_function__ internals>\u001b[0m in \u001b[0;36mmean\u001b[0;34m(*args, **kwargs)\u001b[0m\n",
      "\u001b[0;32m~/anaconda3/envs/Dlib_env/lib/python3.7/site-packages/numpy/core/fromnumeric.py\u001b[0m in \u001b[0;36mmean\u001b[0;34m(a, axis, dtype, out, keepdims, where)\u001b[0m\n\u001b[1;32m   3439\u001b[0m \u001b[0;34m\u001b[0m\u001b[0m\n\u001b[1;32m   3440\u001b[0m     return _methods._mean(a, axis=axis, dtype=dtype,\n\u001b[0;32m-> 3441\u001b[0;31m                           out=out, **kwargs)\n\u001b[0m\u001b[1;32m   3442\u001b[0m \u001b[0;34m\u001b[0m\u001b[0m\n\u001b[1;32m   3443\u001b[0m \u001b[0;34m\u001b[0m\u001b[0m\n",
      "\u001b[0;32m~/anaconda3/envs/Dlib_env/lib/python3.7/site-packages/numpy/core/_methods.py\u001b[0m in \u001b[0;36m_mean\u001b[0;34m(a, axis, dtype, out, keepdims, where)\u001b[0m\n\u001b[1;32m    165\u001b[0m     \u001b[0mis_float16_result\u001b[0m \u001b[0;34m=\u001b[0m \u001b[0;32mFalse\u001b[0m\u001b[0;34m\u001b[0m\u001b[0;34m\u001b[0m\u001b[0m\n\u001b[1;32m    166\u001b[0m \u001b[0;34m\u001b[0m\u001b[0m\n\u001b[0;32m--> 167\u001b[0;31m     \u001b[0mrcount\u001b[0m \u001b[0;34m=\u001b[0m \u001b[0m_count_reduce_items\u001b[0m\u001b[0;34m(\u001b[0m\u001b[0marr\u001b[0m\u001b[0;34m,\u001b[0m \u001b[0maxis\u001b[0m\u001b[0;34m,\u001b[0m \u001b[0mkeepdims\u001b[0m\u001b[0;34m=\u001b[0m\u001b[0mkeepdims\u001b[0m\u001b[0;34m,\u001b[0m \u001b[0mwhere\u001b[0m\u001b[0;34m=\u001b[0m\u001b[0mwhere\u001b[0m\u001b[0;34m)\u001b[0m\u001b[0;34m\u001b[0m\u001b[0;34m\u001b[0m\u001b[0m\n\u001b[0m\u001b[1;32m    168\u001b[0m     \u001b[0;32mif\u001b[0m \u001b[0mrcount\u001b[0m \u001b[0;34m==\u001b[0m \u001b[0;36m0\u001b[0m \u001b[0;32mif\u001b[0m \u001b[0mwhere\u001b[0m \u001b[0;32mis\u001b[0m \u001b[0;32mTrue\u001b[0m \u001b[0;32melse\u001b[0m \u001b[0mumr_any\u001b[0m\u001b[0;34m(\u001b[0m\u001b[0mrcount\u001b[0m \u001b[0;34m==\u001b[0m \u001b[0;36m0\u001b[0m\u001b[0;34m,\u001b[0m \u001b[0maxis\u001b[0m\u001b[0;34m=\u001b[0m\u001b[0;32mNone\u001b[0m\u001b[0;34m)\u001b[0m\u001b[0;34m:\u001b[0m\u001b[0;34m\u001b[0m\u001b[0;34m\u001b[0m\u001b[0m\n\u001b[1;32m    169\u001b[0m         \u001b[0mwarnings\u001b[0m\u001b[0;34m.\u001b[0m\u001b[0mwarn\u001b[0m\u001b[0;34m(\u001b[0m\u001b[0;34m\"Mean of empty slice.\"\u001b[0m\u001b[0;34m,\u001b[0m \u001b[0mRuntimeWarning\u001b[0m\u001b[0;34m,\u001b[0m \u001b[0mstacklevel\u001b[0m\u001b[0;34m=\u001b[0m\u001b[0;36m2\u001b[0m\u001b[0;34m)\u001b[0m\u001b[0;34m\u001b[0m\u001b[0;34m\u001b[0m\u001b[0m\n",
      "\u001b[0;32m~/anaconda3/envs/Dlib_env/lib/python3.7/site-packages/numpy/core/_methods.py\u001b[0m in \u001b[0;36m_count_reduce_items\u001b[0;34m(arr, axis, keepdims, where)\u001b[0m\n\u001b[1;32m     74\u001b[0m         \u001b[0mitems\u001b[0m \u001b[0;34m=\u001b[0m \u001b[0mnt\u001b[0m\u001b[0;34m.\u001b[0m\u001b[0mintp\u001b[0m\u001b[0;34m(\u001b[0m\u001b[0;36m1\u001b[0m\u001b[0;34m)\u001b[0m\u001b[0;34m\u001b[0m\u001b[0;34m\u001b[0m\u001b[0m\n\u001b[1;32m     75\u001b[0m         \u001b[0;32mfor\u001b[0m \u001b[0max\u001b[0m \u001b[0;32min\u001b[0m \u001b[0maxis\u001b[0m\u001b[0;34m:\u001b[0m\u001b[0;34m\u001b[0m\u001b[0;34m\u001b[0m\u001b[0m\n\u001b[0;32m---> 76\u001b[0;31m             \u001b[0mitems\u001b[0m \u001b[0;34m*=\u001b[0m \u001b[0marr\u001b[0m\u001b[0;34m.\u001b[0m\u001b[0mshape\u001b[0m\u001b[0;34m[\u001b[0m\u001b[0mmu\u001b[0m\u001b[0;34m.\u001b[0m\u001b[0mnormalize_axis_index\u001b[0m\u001b[0;34m(\u001b[0m\u001b[0max\u001b[0m\u001b[0;34m,\u001b[0m \u001b[0marr\u001b[0m\u001b[0;34m.\u001b[0m\u001b[0mndim\u001b[0m\u001b[0;34m)\u001b[0m\u001b[0;34m]\u001b[0m\u001b[0;34m\u001b[0m\u001b[0;34m\u001b[0m\u001b[0m\n\u001b[0m\u001b[1;32m     77\u001b[0m     \u001b[0;32melse\u001b[0m\u001b[0;34m:\u001b[0m\u001b[0;34m\u001b[0m\u001b[0;34m\u001b[0m\u001b[0m\n\u001b[1;32m     78\u001b[0m         \u001b[0;31m# TODO: Optimize case when `where` is broadcast along a non-reduction\u001b[0m\u001b[0;34m\u001b[0m\u001b[0;34m\u001b[0m\u001b[0;34m\u001b[0m\u001b[0m\n",
      "\u001b[0;31mAxisError\u001b[0m: axis 0 is out of bounds for array of dimension 0"
     ]
    }
   ],
   "source": [
    "#Geting location of the first frame\n",
    "sub_name, video_name, framelist = Loading() \n",
    "save_path = 'SAMM_Cropped_Dlib'\n",
    "width, height, location = Reference(framelist[0])\n",
    "ref_img, ref_landmarks = ProImg(framelist[0])\n",
    "\n",
    "#normalize the rest frames:\n",
    "for frame in framelist:\n",
    "    #create save path\n",
    "    frame_name = frame.split('/')[-1]\n",
    "    frame_save_path = os.path.join(save_path, sub_name, video_name+'_ByLWM')\n",
    "    folder = os.path.exists(frame_save_path)\n",
    "    if not folder:\n",
    "        os.makedirs(frame_save_path)\n",
    "    frame_save_path = os.path.join(frame_save_path, frame_name)\n",
    "    \n",
    "    #normalize and crop rest images\n",
    "    cropped_face = normalize(frame, width, height, location)\n",
    "    cv2.imwrite(frame_save_path, cropped_face)"
   ]
  }
 ],
 "metadata": {
  "kernelspec": {
   "display_name": "dlib_env",
   "language": "python",
   "name": "dlib_env"
  },
  "language_info": {
   "codemirror_mode": {
    "name": "ipython",
    "version": 3
   },
   "file_extension": ".py",
   "mimetype": "text/x-python",
   "name": "python",
   "nbconvert_exporter": "python",
   "pygments_lexer": "ipython3",
   "version": "3.7.12"
  }
 },
 "nbformat": 4,
 "nbformat_minor": 5
}
