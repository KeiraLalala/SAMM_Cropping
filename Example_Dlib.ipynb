{
 "cells": [
  {
   "cell_type": "code",
   "execution_count": 1,
   "id": "68fab3e4",
   "metadata": {},
   "outputs": [],
   "source": [
    "import os\n",
    "import glob as gb\n",
    "import dlib\n",
    "import cv2"
   ]
  },
  {
   "cell_type": "code",
   "execution_count": 2,
   "id": "bde42dbd",
   "metadata": {},
   "outputs": [],
   "source": [
    "#loading image\n",
    "def Loading():\n",
    "    samm_path ='../SAMM/Raw_Data/SAMM/*'\n",
    "    casme_path = '../CASME-II/Cropped/*'\n",
    "    smic_path = '../SMIC/SMIC_all_cropped/HS/*'\n",
    "\n",
    "    sub_list = gb.glob(samm_path)\n",
    "    sub = sub_list[1]\n",
    "    video_list = gb.glob(os.path.join(sub,'*'))\n",
    "    if len(video_list) > 0:\n",
    "        video = video_list[0]\n",
    "    else:\n",
    "        video = video_list[-1]\n",
    "    frame_list = gb.glob(os.path.join(video,'*.jpg'))\n",
    "    frame = frame_list[0]\n",
    "    return frame    "
   ]
  },
  {
   "cell_type": "code",
   "execution_count": null,
   "id": "93ac906e",
   "metadata": {},
   "outputs": [],
   "source": [
    "# Load the detector\n",
    "detector = dlib.get_frontal_face_detector()\n",
    "predictor = dlib.shape_predictor(\"shape_predictor_68_face_landmarks.dat\")\n",
    "frame = Loading()\n",
    "# Load the image\n",
    "img = cv2.imread(frame)\n",
    "\n",
    "# Convert image to grayscale\n",
    "gray = cv2.cvtColor(img, cv2.COLOR_BGR2GRAY)\n",
    "\n",
    "# Detect faces in the image\n",
    "faces = detector(gray)\n",
    "\n",
    "# Loop through each face found\n",
    "for face in faces:\n",
    "    # Get the facial landmarks for the face\n",
    "    landmarks = predictor(gray, face)\n",
    "\n",
    "    # Loop through each landmark and draw a circle\n",
    "    for n in range(0, 68):\n",
    "        x = landmarks.part(n).x\n",
    "        y = landmarks.part(n).y\n",
    "        cv2.circle(img, (x, y), 2, (255, 0, 0), -1)\n",
    "\n",
    "# Display the image with the landmarks\n",
    "cv2.imshow(\"Output\", img)"
   ]
  }
 ],
 "metadata": {
  "kernelspec": {
   "display_name": "dlib_env",
   "language": "python",
   "name": "dlib_env"
  },
  "language_info": {
   "codemirror_mode": {
    "name": "ipython",
    "version": 3
   },
   "file_extension": ".py",
   "mimetype": "text/x-python",
   "name": "python",
   "nbconvert_exporter": "python",
   "pygments_lexer": "ipython3",
   "version": "3.7.12"
  }
 },
 "nbformat": 4,
 "nbformat_minor": 5
}
