{
 "cells": [
  {
   "cell_type": "code",
   "execution_count": 1,
   "id": "94e81164",
   "metadata": {},
   "outputs": [
    {
     "name": "stderr",
     "output_type": "stream",
     "text": [
      "/home/s439476@ucstaff.win.canberra.edu.au/anaconda3/envs/keira_py37_env/lib/python3.7/site-packages/tqdm/auto.py:22: TqdmWarning: IProgress not found. Please update jupyter and ipywidgets. See https://ipywidgets.readthedocs.io/en/stable/user_install.html\n",
      "  from .autonotebook import tqdm as notebook_tqdm\n"
     ]
    }
   ],
   "source": [
    "import cv2\n",
    "import os\n",
    "import glob as gb\n",
    "from PIL import Image\n",
    "import numpy as np\n",
    "from face_alignment import FaceAlignment, LandmarksType"
   ]
  },
  {
   "cell_type": "code",
   "execution_count": 2,
   "id": "221195cc",
   "metadata": {},
   "outputs": [],
   "source": [
    "def Loading():\n",
    "    samm_path ='../SAMM/Raw_Data/SAMM/*'\n",
    "    casme_path = '../CASME-II/Cropped/*'\n",
    "    smic_path = '../SMIC/SMIC_all_cropped/HS/*'\n",
    "    #get subject\n",
    "    sub_list = gb.glob(samm_path)\n",
    "    sub = sub_list[0]\n",
    "    sub_name = sub.split('/')[-1]\n",
    "    # get video\n",
    "    video_list = gb.glob(os.path.join(sub,'*'))\n",
    "    if len(video_list) > 0:\n",
    "        video = video_list[0]\n",
    "    else:\n",
    "        video = video_list[-1]\n",
    "    video_name = video.split('/')[-1]\n",
    "    # get frame\n",
    "    frame_list = gb.glob(os.path.join(video,'*.jpg'))\n",
    "    frame = frame_list[0]\n",
    "    return frame"
   ]
  },
  {
   "cell_type": "code",
   "execution_count": 4,
   "id": "4bc34971",
   "metadata": {},
   "outputs": [
    {
     "name": "stderr",
     "output_type": "stream",
     "text": [
      "\n",
      "(eom:1180497): dbind-WARNING **: 09:11:45.452: Couldn't register with accessibility bus: Did not receive a reply. Possible causes include: the remote application did not send a reply, the message bus security policy blocked the reply, the reply timeout expired, or the network connection was broken.\n"
     ]
    }
   ],
   "source": [
    "# Load the facial landmark detection model from the face_alignment library\n",
    "fa = FaceAlignment(LandmarksType._2D, device='cpu')\n",
    "\n",
    "# Load the input image\n",
    "img = Image.open(Loading()).convert('RGB')\n",
    "\n",
    "# Convert the PIL image to a numpy array\n",
    "img_np = np.array(img)\n",
    "\n",
    "# Convert the numpy array to grayscale\n",
    "gray = cv2.cvtColor(img_np, cv2.COLOR_RGB2GRAY)\n",
    "\n",
    "# Make a prediction with the facial landmark detection model\n",
    "landmarks = fa.get_landmarks(gray)\n",
    "\n",
    "# Check if any landmarks were detected in the prediction\n",
    "if landmarks is not None:\n",
    "    # Draw the landmarks on the original image\n",
    "    for landmark in landmarks:\n",
    "        for x, y in landmark.astype(int):\n",
    "            cv2.circle(img_np, (x, y), 2, (0, 0, 255), -1)\n",
    "\n",
    "    # Convert the numpy array back to a PIL image\n",
    "    img_with_landmarks = Image.fromarray(img_np)\n",
    "\n",
    "    # Display the image with the landmarks\n",
    "    img_with_landmarks.show()\n",
    "else:\n",
    "    print(\"No facial landmarks detected in the image.\")"
   ]
  }
 ],
 "metadata": {
  "kernelspec": {
   "display_name": "py3.7",
   "language": "python",
   "name": "py3.7"
  },
  "language_info": {
   "codemirror_mode": {
    "name": "ipython",
    "version": 3
   },
   "file_extension": ".py",
   "mimetype": "text/x-python",
   "name": "python",
   "nbconvert_exporter": "python",
   "pygments_lexer": "ipython3",
   "version": "3.7.12"
  }
 },
 "nbformat": 4,
 "nbformat_minor": 5
}
