{
 "cells": [
  {
   "cell_type": "code",
   "execution_count": 1,
   "id": "c351b709",
   "metadata": {},
   "outputs": [
    {
     "name": "stderr",
     "output_type": "stream",
     "text": [
      "/home/s439476@ucstaff.win.canberra.edu.au/anaconda3/envs/keira_py37_env/lib/python3.7/site-packages/tqdm/auto.py:22: TqdmWarning: IProgress not found. Please update jupyter and ipywidgets. See https://ipywidgets.readthedocs.io/en/stable/user_install.html\n",
      "  from .autonotebook import tqdm as notebook_tqdm\n"
     ]
    }
   ],
   "source": [
    "import os\n",
    "import cv2\n",
    "import torch\n",
    "import glob as gb\n",
    "import numpy as np\n",
    "from torch import nn\n",
    "from IPython import display\n",
    "from PIL import Image, ImageDraw\n",
    "from face_alignment import FaceAlignment, LandmarksType"
   ]
  },
  {
   "cell_type": "code",
   "execution_count": 2,
   "id": "307a1eca",
   "metadata": {},
   "outputs": [],
   "source": [
    "#loading image\n",
    "def Loading():\n",
    "    samm_path ='../SAMM/Raw_Data/SAMM/*'\n",
    "    casme_path = '../CASME-II/Cropped/*'\n",
    "    smic_path = '../SMIC/SMIC_all_cropped/HS/*'\n",
    "    #get subject\n",
    "    sub_list = gb.glob(samm_path)\n",
    "    sub = sub_list[0]\n",
    "    sub_name = sub.split('/')[-1]\n",
    "    # get video\n",
    "    video_list = gb.glob(os.path.join(sub,'*'))\n",
    "    if len(video_list) > 0:\n",
    "        video = video_list[0]\n",
    "    else:\n",
    "        video = video_list[-1]\n",
    "    video_name = video.split('/')[-1]\n",
    "    # get frame\n",
    "    frame_list = sorted(gb.glob(os.path.join(video,'*.jpg')))\n",
    "    frame = frame_list[:2]\n",
    "    return sub_name, video_name, frame_list  "
   ]
  },
  {
   "cell_type": "code",
   "execution_count": 3,
   "id": "81fd308c",
   "metadata": {},
   "outputs": [],
   "source": [
    "# Define the Procrustes analysis function\n",
    "def procrustes_analysis(src_pts, dst_pts):\n",
    "    # Compute the centroid of each set of points\n",
    "    src_centroid = np.mean(src_pts, axis=0)\n",
    "    dst_centroid = np.mean(dst_pts, axis=0)\n",
    "\n",
    "    # Compute the distance of each point from its centroid\n",
    "    src_dist = np.sqrt(np.sum((src_pts - src_centroid) ** 2, axis=1))\n",
    "    dst_dist = np.sqrt(np.sum((dst_pts - dst_centroid) ** 2, axis=1))\n",
    "\n",
    "    # Scale the source points to match the destination points\n",
    "    src_pts_scaled = src_pts * (dst_dist / src_dist)[:, np.newaxis]\n",
    "\n",
    "    # Compute the rotation and translation that aligns the scaled source points with the destination points\n",
    "    U, _, Vt = np.linalg.svd(src_pts_scaled.T.dot(dst_pts))\n",
    "    R = U.dot(Vt)\n",
    "    t = dst_centroid - R.dot(src_centroid)\n",
    "\n",
    "    # Return the transformation matrix\n",
    "    return np.hstack((R, t[:, np.newaxis]))"
   ]
  },
  {
   "cell_type": "code",
   "execution_count": 4,
   "id": "cd8e03b4",
   "metadata": {},
   "outputs": [],
   "source": [
    "def ladmrkloading(frm_dir):\n",
    "    \n",
    "    # Load the input image\n",
    "    img = cv2.imread(frm_dir)\n",
    "\n",
    "    # Convert the PIL image to a numpy array\n",
    "    img_np = np.array(img)\n",
    "\n",
    "    # Convert the numpy array to grayscale\n",
    "    gray = cv2.cvtColor(img, cv2.COLOR_RGB2GRAY)\n",
    "\n",
    "    # Make a prediction with the facial landmark detection model\n",
    "    landmarks = fa.get_landmarks(gray)\n",
    "\n",
    "    return gray, landmarks[0]"
   ]
  },
  {
   "cell_type": "code",
   "execution_count": 5,
   "id": "7c751c3e",
   "metadata": {},
   "outputs": [],
   "source": [
    "# def cropFace(img, landmarks):\n",
    "#     # Detect the facial landmarks\n",
    "#     landmarks = fa.get_landmarks(img)[0]\n",
    "\n",
    "#     # Find the bounding box of the face\n",
    "#     x, y, w, h = cv2.boundingRect(landmarks)\n",
    "\n",
    "#     # Crop the face from the image\n",
    "#     face = img[y:y+h, x:x+w]"
   ]
  },
  {
   "cell_type": "code",
   "execution_count": 6,
   "id": "f9be4fc7",
   "metadata": {},
   "outputs": [],
   "source": [
    "#Geting location of the first frame\n",
    "sub_name, video_name, framelist = Loading() \n",
    "save_path = 'SAMM_Cropped_Dlib'\n",
    "\n",
    "# Load the facial landmark detection model from the face_alignment library\n",
    "fa = FaceAlignment(LandmarksType._2D, device='cpu')\n",
    "\n",
    "# # Load the reference image\n",
    "# ref_img = cv2.imread(framelist[0])\n",
    "ref_img, ref_landmarks = ladmrkloading(framelist[0])\n",
    "warp_img_size = (ref_img.shape[1],ref_img.shape[0])\n",
    "# Find the bounding box of the face\n",
    "x, y, w, h = cv2.boundingRect(ref_landmarks)"
   ]
  },
  {
   "cell_type": "code",
   "execution_count": 7,
   "id": "fefbc9db",
   "metadata": {},
   "outputs": [],
   "source": [
    "#normalize the rest frames:\n",
    "for frame in framelist:\n",
    "    #create save path\n",
    "    frame_name = frame.split('/')[-1]\n",
    "    frame_save_path = os.path.join(save_path, sub_name, video_name+'_ByLWM')\n",
    "    folder = os.path.exists(frame_save_path)\n",
    "    if not folder:\n",
    "        os.makedirs(frame_save_path)\n",
    "    frame_save_path = os.path.join(frame_save_path, frame_name)\n",
    "\n",
    "    # Load the image\n",
    "    img, landmarks = ladmrkloading(frame)\n",
    "\n",
    "    # Compute the transformation matrix between the landmarks of the image and the reference image\n",
    "    M = procrustes_analysis(landmarks, ref_landmarks)\n",
    "    \n",
    "    # Apply the transformation matrix to the image to warp it to the same position as the reference image\n",
    "    warped_img = cv2.warpAffine(img, M[:2, :], warp_img_size)\n",
    "\n",
    "    # Crop the face from the image\n",
    "    cropped_face = warped_img[y:y+h, x+10:x+w-10]\n",
    "    \n",
    "    # Save the warped image\n",
    "    cv2.imwrite(frame_save_path, cropped_face)\n"
   ]
  }
 ],
 "metadata": {
  "kernelspec": {
   "display_name": "py3.7",
   "language": "python",
   "name": "py3.7"
  },
  "language_info": {
   "codemirror_mode": {
    "name": "ipython",
    "version": 3
   },
   "file_extension": ".py",
   "mimetype": "text/x-python",
   "name": "python",
   "nbconvert_exporter": "python",
   "pygments_lexer": "ipython3",
   "version": "3.7.12"
  }
 },
 "nbformat": 4,
 "nbformat_minor": 5
}
